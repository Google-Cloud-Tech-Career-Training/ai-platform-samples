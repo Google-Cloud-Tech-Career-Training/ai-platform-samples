{
 "cells": [
  {
   "cell_type": "code",
   "execution_count": 1,
   "metadata": {
    "execution": {
     "iopub.execute_input": "2021-04-03T07:30:57.991892Z",
     "iopub.status.busy": "2021-04-03T07:30:57.990952Z",
     "iopub.status.idle": "2021-04-03T07:30:57.995193Z",
     "shell.execute_reply": "2021-04-03T07:30:57.995829Z"
    }
   },
   "outputs": [
    {
     "name": "stdout",
     "output_type": "stream",
     "text": [
      "hello\n"
     ]
    }
   ],
   "source": [
    "print(\"hello\")"
   ]
  },
  {
   "cell_type": "code",
   "execution_count": 2,
   "metadata": {
    "execution": {
     "iopub.execute_input": "2021-04-03T07:30:58.000104Z",
     "iopub.status.busy": "2021-04-03T07:30:57.999232Z",
     "iopub.status.idle": "2021-04-03T07:30:58.102351Z",
     "shell.execute_reply": "2021-04-03T07:30:58.102755Z"
    }
   },
   "outputs": [
    {
     "ename": "NameError",
     "evalue": "name 'sdfadf' is not defined",
     "output_type": "error",
     "traceback": [
      "\u001b[0;31m---------------------------------------------------------------------------\u001b[0m",
      "\u001b[0;31mNameError\u001b[0m                                 Traceback (most recent call last)",
      "\u001b[0;32m<ipython-input-1-6fedc4571ab3>\u001b[0m in \u001b[0;36m<module>\u001b[0;34m\u001b[0m\n\u001b[0;32m----> 1\u001b[0;31m \u001b[0msdfadf\u001b[0m\u001b[0;34m\u001b[0m\u001b[0;34m\u001b[0m\u001b[0m\n\u001b[0m",
      "\u001b[0;31mNameError\u001b[0m: name 'sdfadf' is not defined"
     ]
    }
   ],
   "source": [
    "sdfadf"
   ]
  }
 ],
 "metadata": {
  "language_info": {
   "codemirror_mode": {
    "name": "ipython",
    "version": 3
   },
   "file_extension": ".py",
   "mimetype": "text/x-python",
   "name": "python",
   "nbconvert_exporter": "python",
   "pygments_lexer": "ipython3",
   "version": "3.8.7"
  }
 },
 "nbformat": 4,
 "nbformat_minor": 2
}
