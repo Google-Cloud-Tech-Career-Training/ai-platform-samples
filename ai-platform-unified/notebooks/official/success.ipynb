{
 "cells": [
  {
   "cell_type": "code",
   "execution_count": null,
   "metadata": {},
   "outputs": [],
   "source": [
    "print(\"hello world\")"
   ]
  },
  {
   "cell_type": "code",
   "execution_count": null,
   "metadata": {},
   "outputs": [],
   "source": [
    "# Test that the variable substitution works\n",
    "PROJECT_ID = \"[your_project_id_here]\"\n",
    "\n",
    "def compare(first: str, second: str):\n",
    "    return first==second\n",
    "\n",
    "if compare(PROJECT_ID, \"[your_project_id_here]\"):\n",
    "    raise RuntimeError(\"Variable not replaced\")"
   ]
  },
  {
   "cell_type": "code",
   "execution_count": null,
   "metadata": {
    "tags": [
     "no_execute"
    ]
   },
   "outputs": [],
   "source": [
    "# Test that the no_execute tag works\n",
    "raise RuntimeError(\"no_execute tag not working.\")"
   ]
  },
  {
   "cell_type": "code",
   "execution_count": null,
   "metadata": {},
   "outputs": [],
   "source": [
    "# Test that the IS_TESTING environmental variable works\n",
    "import os\n",
    "if not os.getenv(\"IS_TESTING\"):\n",
    "    # This code will be exempt from execution\n",
    "    raise RuntimeError(\"IS_TESTING environment variable not detected.\")"
   ]
  }
 ],
 "metadata": {
  "kernelspec": {
   "display_name": "Python 3",
   "language": "python",
   "name": "python3"
  },
  "language_info": {
   "codemirror_mode": {
    "name": "ipython",
    "version": 3
   },
   "file_extension": ".py",
   "mimetype": "text/x-python",
   "name": "python",
   "nbconvert_exporter": "python",
   "pygments_lexer": "ipython3",
   "version": "3.8.7"
  }
 },
 "nbformat": 4,
 "nbformat_minor": 4
}